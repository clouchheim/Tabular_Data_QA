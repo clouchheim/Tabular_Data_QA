{
 "cells": [
  {
   "cell_type": "markdown",
   "id": "9797c22a",
   "metadata": {},
   "source": [
    "File to train on the toy_df.csv (that came from the 001_Forbes Dataset)"
   ]
  },
  {
   "cell_type": "code",
   "execution_count": 2,
   "id": "05b024a4",
   "metadata": {},
   "outputs": [],
   "source": [
    "import os\n",
    "import ast\n",
    "import torch\n",
    "import matplotlib.pyplot as plt\n",
    "from tqdm import tqdm\n",
    "import warnings\n",
    "import random\n",
    "import pandas as pd\n",
    "from transformers import TapasConfig, TapasForQuestionAnswering, TapasTokenizer, AdamW, get_linear_schedule_with_warmup\n",
    "warnings.filterwarnings(\"ignore\")"
   ]
  },
  {
   "cell_type": "code",
   "execution_count": 3,
   "id": "96525ffd",
   "metadata": {},
   "outputs": [],
   "source": [
    "# load in tokenizer\n",
    "tokenizer = TapasTokenizer.from_pretrained(\"google/tapas-base-finetuned-wtq\")\n",
    "base_tokenizer = TapasTokenizer.from_pretrained(\"google/tapas-base\")"
   ]
  },
  {
   "cell_type": "code",
   "execution_count": 4,
   "id": "91d0da7f",
   "metadata": {},
   "outputs": [],
   "source": [
    "# Function to convert the string representation to a list of tuples\n",
    "def parse_answer_coords(coords_str):\n",
    "    try:\n",
    "        # Safely evaluate the string to a Python object\n",
    "        coords = ast.literal_eval(coords_str)\n",
    "        \n",
    "        # Ensure the result is a list of tuples with integers\n",
    "        if isinstance(coords, list) and all(\n",
    "            isinstance(coord, (tuple, list)) and len(coord) == 2 and all(isinstance(x, int) for x in coord)\n",
    "            for coord in coords\n",
    "        ):\n",
    "            return [tuple(coord) for coord in coords]  # Convert lists to tuples if needed\n",
    "        else:\n",
    "            raise ValueError(f\"Invalid format for answer_coords: {coords_str}\")\n",
    "    except (ValueError, SyntaxError) as e:\n",
    "        raise ValueError(f\"Error parsing answer_coords: {coords_str}. Details: {e}\")"
   ]
  },
  {
   "cell_type": "code",
   "execution_count": 5,
   "id": "20dcf48b",
   "metadata": {},
   "outputs": [],
   "source": [
    "# class to tokenizer dataset\n",
    "class TableDataset(torch.utils.data.Dataset):\n",
    "    def __init__(self, data, tokenizer):\n",
    "        self.data = self.process_answer_coords_column(data)\n",
    "        self.tokenizer = tokenizer\n",
    "        self.table_csv_path = 'data/'\n",
    "\n",
    "    def __getitem__(self, idx):\n",
    "        item = self.data.iloc[idx]\n",
    "        table = pd.read_csv(self.table_csv_path + item.dataset).astype(\n",
    "            str\n",
    "        )  # be sure to make your table data text only\n",
    "\n",
    "        encoding = self.tokenizer(\n",
    "            table=table,\n",
    "            queries=item.question,\n",
    "            answer_coordinates=item.answer_coords,\n",
    "            answer_text=item.sample_answer,\n",
    "            truncation=True,\n",
    "            padding=\"max_length\",\n",
    "            return_tensors=\"pt\",\n",
    "        )\n",
    "        # remove the batch dimension which the tokenizer adds by default\n",
    "        encoding = {key: val.squeeze(0) for key, val in encoding.items()}\n",
    "        # add the float_answer which is also required (weak supervision for aggregation case)\n",
    "        encoding[\"float_answer\"] = torch.tensor(item.float_answer)\n",
    "        return encoding\n",
    "\n",
    "    def __len__(self):\n",
    "        return len(self.data)\n",
    "    \n",
    "    # change answer_coords from strings\n",
    "    def process_answer_coords_column(self, data, column_name=\"answer_coords\"):\n",
    "        if column_name not in data.columns:\n",
    "            raise ValueError(f\"Column '{column_name}' does not exist in the dataset.\")\n",
    "\n",
    "        def parse_answer_coords(coords_str):\n",
    "            try:\n",
    "                coords = ast.literal_eval(coords_str)\n",
    "                if isinstance(coords, list) and all(\n",
    "                    isinstance(coord, (tuple, list)) and len(coord) == 2 and all(isinstance(x, int) for x in coord)\n",
    "                    for coord in coords\n",
    "                ):\n",
    "                    return [tuple(coord) for coord in coords]\n",
    "                else:\n",
    "                    raise ValueError(f\"Invalid format for answer_coords: {coords_str}\")\n",
    "            except (ValueError, SyntaxError) as e:\n",
    "                raise ValueError(f\"Error parsing answer_coords: {coords_str}. Details: {e}\")\n",
    "        data[column_name] = data[column_name].apply(parse_answer_coords)\n",
    "        return data"
   ]
  },
  {
   "cell_type": "code",
   "execution_count": 40,
   "id": "afb145ec",
   "metadata": {},
   "outputs": [
    {
     "name": "stdout",
     "output_type": "stream",
     "text": [
      "90 14\n"
     ]
    }
   ],
   "source": [
    "# load in toy_df, tokenize and place in dataloader\n",
    "csv_path = 'data/toy_df.csv'\n",
    "df = pd.read_csv(csv_path)\n",
    "\n",
    "csv_path_v2 =  'data/toy_df_v2.csv'\n",
    "df_v2 = pd.read_csv(csv_path_v2)\n",
    "\n",
    "csv_path_altered = 'data/altered.csv'\n",
    "df_alt =  pd.read_csv(csv_path_altered)\n",
    "\n",
    "datasets = list(set(df['dataset']))\n",
    "train_datasets = datasets[:len(datasets) - 2]\n",
    "dev_datasets = datasets[len(datasets) - 2:]\n",
    "\n",
    "train_df = df[df['dataset'].isin(train_datasets)]\n",
    "train_df_v2 = df_v2[df_v2['dataset'].isin(train_datasets)]\n",
    "train_alt = df_alt[df_alt['dataset'].isin(train_datasets)]\n",
    "\n",
    "dev_df = df[df['dataset'].isin(dev_datasets)]\n",
    "dev_alt = df_alt[df_alt['dataset'].isin(dev_datasets)]\n",
    "\n",
    "print(len(train_df), len(dev_df))\n",
    "\n",
    "# load train dataloader\n",
    "train_dataset = TableDataset(train_df, tokenizer)\n",
    "train_dataloader = torch.utils.data.DataLoader(train_dataset, batch_size=8)\n",
    "\n",
    "# load train_v2 dataloader\n",
    "train_dataset_v2 = TableDataset(train_df_v2, tokenizer)\n",
    "train_dataloader_v2 = torch.utils.data.DataLoader(train_dataset_v2, batch_size=8)\n",
    "\n",
    "# load altered dataloader \n",
    "train_dataset_alt = TableDataset(train_alt, tokenizer)\n",
    "train_dataloader_alt = torch.utils.data.DataLoader(train_dataset_alt, batch_size=8)\n",
    "\n",
    "# load dev dataloader\n",
    "dev_dataset = TableDataset(dev_df, tokenizer)\n",
    "dev_dataloader = torch.utils.data.DataLoader(dev_dataset, batch_size=8)\n",
    "\n",
    "# load dev alt\n",
    "dev_dataset_alt = TableDataset(dev_alt, tokenizer)\n",
    "dev_dataloader_alt =  torch.utils.data.DataLoader(dev_dataset_alt, batch_size=8)\n",
    "\n",
    "# get test datasets\n",
    "test_data = pd.read_csv('data/test_real.csv')\n",
    "test_alt_data = pd.read_csv('data/test_alt_real.csv')\n",
    "test_dfs = list(set(test_data['dataset']))\n",
    "\n"
   ]
  },
  {
   "cell_type": "code",
   "execution_count": 16,
   "id": "203843e2",
   "metadata": {},
   "outputs": [],
   "source": [
    "# load in WTQ model (from TAPAS documentation)\n",
    "config = TapasConfig(\n",
    "    num_aggregation_labels=4,\n",
    "    use_answer_as_supervision=True,\n",
    "    answer_loss_cutoff=0.664694,\n",
    "    cell_selection_preference=0.207951,\n",
    "    huber_loss_delta=0.121194,\n",
    "    init_cell_selection_weights_to_zero=True,\n",
    "    select_one_column=True,\n",
    "    allow_empty_column_selection=False,\n",
    "    temperature=0.0352513,\n",
    ")\n",
    "\n",
    "model_finetune = TapasForQuestionAnswering.from_pretrained(\"google/tapas-base-finetuned-wtq\", config=config) # finetune\n",
    "optimizer = AdamW(model_finetune.parameters(), lr=1e-5) # trying to change leaening rate"
   ]
  },
  {
   "cell_type": "code",
   "execution_count": 17,
   "id": "43f067f6",
   "metadata": {},
   "outputs": [],
   "source": [
    "def train_model(\n",
    "    model, \n",
    "    train_dataloader, \n",
    "    dev_dataloader, \n",
    "    optimizer, \n",
    "    device, \n",
    "    epochs, \n",
    "    save_path, \n",
    "    description=\"Training Parameters Description\"\n",
    "):\n",
    "    \n",
    "    # Calculate total training steps\n",
    "    total_steps = len(train_dataloader) * epochs\n",
    "    \n",
    "    # Create scheduler\n",
    "    scheduler = get_linear_schedule_with_warmup(\n",
    "        optimizer,\n",
    "        num_warmup_steps=0,  # Optional warm-up period\n",
    "        num_training_steps=total_steps\n",
    "    )\n",
    "    \n",
    "    best_dev_loss = float('inf')\n",
    "    model.to(device)\n",
    "    \n",
    "    save_path = 'models/' + save_path\n",
    "    train_losses = [] \n",
    "    dev_losses = []    \n",
    "    \n",
    "    for epoch in range(epochs):\n",
    "        print(f\"Epoch {epoch + 1}/{epochs}\")\n",
    "        model.train()\n",
    "        epoch_train_loss = 0\n",
    "\n",
    "        # Training loop\n",
    "        for batch in tqdm(train_dataloader, desc=\"Training\"):\n",
    "            optimizer.zero_grad()\n",
    "            inputs = {key: value.to(device) for key, value in batch.items()}\n",
    "            outputs = model(**inputs)\n",
    "            loss = outputs.loss\n",
    "            loss.backward()\n",
    "            optimizer.step()\n",
    "            scheduler.step()\n",
    "            epoch_train_loss += loss.item()\n",
    "        epoch_train_loss /= len(train_dataloader)\n",
    "        train_losses.append(epoch_train_loss)\n",
    "        \n",
    "        \n",
    "        # Evaluate on dev set\n",
    "        epoch_dev_loss = 0\n",
    "        model.eval()\n",
    "        with torch.no_grad():\n",
    "            for batch in tqdm(dev_dataloader, desc=\"Validation\"):\n",
    "                inputs = {key: value.to(device) for key, value in batch.items()}\n",
    "                outputs = model(**inputs)\n",
    "                loss = outputs.loss\n",
    "                epoch_dev_loss += loss.item()\n",
    "        epoch_dev_loss /= len(dev_dataloader)\n",
    "        dev_losses.append(epoch_dev_loss)\n",
    "        \n",
    "        print(f\"Training loss for epoch {epoch + 1}: {epoch_train_loss:.4f}\")\n",
    "        print(f\"Validation loss for epoch {epoch + 1}: {epoch_dev_loss:.4f}\")\n",
    "        \n",
    "    \n",
    "    # Save final model\n",
    "    model.save_pretrained(save_path)\n",
    "    print(f\"fine-tuned model saved to {save_path}\")\n",
    "    \n",
    "    # Plot losses ans save\n",
    "    plt.figure(figsize=(10, 6))\n",
    "    plt.plot(range(1, epochs + 1), train_losses, label=\"Train Loss\")\n",
    "    plt.plot(range(1, epochs + 1), dev_losses, label=\"Validation Loss\")\n",
    "    plt.xlabel(\"Epoch\")\n",
    "    plt.ylabel(\"Loss\")\n",
    "    plt.title(\"Training and Validation Loss Over Epochs\")\n",
    "    plt.legend()\n",
    "    plt.grid(True)\n",
    "    plt.tight_layout()\n",
    "    \n",
    "    # Save plot with description\n",
    "    plt.savefig(f\"{save_path}/training_loss_plot.png\")\n",
    "    print(f\"Loss plot saved\")\n",
    "    \n",
    "    # Save training description\n",
    "    with open(f\"{save_path}/training_description.txt\", \"w\") as desc_file:\n",
    "        desc_file.write(description)\n",
    "        desc_file.write(f\"\\nEpochs: {epochs}\")\n",
    "        desc_file.write(f\"\\nFinal Train Loss: {train_losses[-1]:.4f}\")\n",
    "        desc_file.write(f\"\\nFinal Validation Loss: {dev_losses[-1]:.4f}\")\n",
    "    \n",
    "    print('Done Training')\n",
    "    return model"
   ]
  },
  {
   "cell_type": "code",
   "execution_count": 38,
   "id": "3f4b8b91",
   "metadata": {},
   "outputs": [
    {
     "name": "stdout",
     "output_type": "stream",
     "text": [
      "Epoch 1/15\n"
     ]
    },
    {
     "name": "stderr",
     "output_type": "stream",
     "text": [
      "Training: 100%|█████████████████████████████████| 12/12 [05:04<00:00, 25.34s/it]\n",
      "Validation: 100%|█████████████████████████████████| 2/2 [00:09<00:00,  4.96s/it]\n"
     ]
    },
    {
     "name": "stdout",
     "output_type": "stream",
     "text": [
      "Training loss for epoch 1: 1.8435\n",
      "Validation loss for epoch 1: 1.2506\n",
      "Epoch 2/15\n"
     ]
    },
    {
     "name": "stderr",
     "output_type": "stream",
     "text": [
      "Training: 100%|█████████████████████████████████| 12/12 [04:59<00:00, 24.96s/it]\n",
      "Validation: 100%|█████████████████████████████████| 2/2 [00:10<00:00,  5.11s/it]\n"
     ]
    },
    {
     "name": "stdout",
     "output_type": "stream",
     "text": [
      "Training loss for epoch 2: 0.9654\n",
      "Validation loss for epoch 2: 0.9450\n",
      "Epoch 3/15\n"
     ]
    },
    {
     "name": "stderr",
     "output_type": "stream",
     "text": [
      "Training: 100%|█████████████████████████████████| 12/12 [04:38<00:00, 23.22s/it]\n",
      "Validation: 100%|█████████████████████████████████| 2/2 [00:10<00:00,  5.16s/it]\n"
     ]
    },
    {
     "name": "stdout",
     "output_type": "stream",
     "text": [
      "Training loss for epoch 3: 0.5360\n",
      "Validation loss for epoch 3: 0.7922\n",
      "Epoch 4/15\n"
     ]
    },
    {
     "name": "stderr",
     "output_type": "stream",
     "text": [
      "Training: 100%|█████████████████████████████████| 12/12 [04:28<00:00, 22.41s/it]\n",
      "Validation: 100%|█████████████████████████████████| 2/2 [00:10<00:00,  5.32s/it]\n"
     ]
    },
    {
     "name": "stdout",
     "output_type": "stream",
     "text": [
      "Training loss for epoch 4: 0.4753\n",
      "Validation loss for epoch 4: 0.7425\n",
      "Epoch 5/15\n"
     ]
    },
    {
     "name": "stderr",
     "output_type": "stream",
     "text": [
      "Training: 100%|█████████████████████████████████| 12/12 [04:38<00:00, 23.22s/it]\n",
      "Validation: 100%|█████████████████████████████████| 2/2 [00:10<00:00,  5.36s/it]\n"
     ]
    },
    {
     "name": "stdout",
     "output_type": "stream",
     "text": [
      "Training loss for epoch 5: 0.4994\n",
      "Validation loss for epoch 5: 0.7557\n",
      "Epoch 6/15\n"
     ]
    },
    {
     "name": "stderr",
     "output_type": "stream",
     "text": [
      "Training: 100%|█████████████████████████████████| 12/12 [04:35<00:00, 22.92s/it]\n",
      "Validation: 100%|█████████████████████████████████| 2/2 [00:10<00:00,  5.45s/it]\n"
     ]
    },
    {
     "name": "stdout",
     "output_type": "stream",
     "text": [
      "Training loss for epoch 6: 0.4585\n",
      "Validation loss for epoch 6: 0.7569\n",
      "Epoch 7/15\n"
     ]
    },
    {
     "name": "stderr",
     "output_type": "stream",
     "text": [
      "Training: 100%|█████████████████████████████████| 12/12 [04:36<00:00, 23.04s/it]\n",
      "Validation: 100%|█████████████████████████████████| 2/2 [00:10<00:00,  5.49s/it]\n"
     ]
    },
    {
     "name": "stdout",
     "output_type": "stream",
     "text": [
      "Training loss for epoch 7: 0.4577\n",
      "Validation loss for epoch 7: 0.7756\n",
      "Epoch 8/15\n"
     ]
    },
    {
     "name": "stderr",
     "output_type": "stream",
     "text": [
      "Training: 100%|█████████████████████████████████| 12/12 [04:33<00:00, 22.82s/it]\n",
      "Validation: 100%|█████████████████████████████████| 2/2 [00:10<00:00,  5.29s/it]\n"
     ]
    },
    {
     "name": "stdout",
     "output_type": "stream",
     "text": [
      "Training loss for epoch 8: 0.4452\n",
      "Validation loss for epoch 8: 0.7832\n",
      "Epoch 9/15\n"
     ]
    },
    {
     "name": "stderr",
     "output_type": "stream",
     "text": [
      "Training: 100%|█████████████████████████████████| 12/12 [05:00<00:00, 25.08s/it]\n",
      "Validation: 100%|█████████████████████████████████| 2/2 [00:10<00:00,  5.45s/it]\n"
     ]
    },
    {
     "name": "stdout",
     "output_type": "stream",
     "text": [
      "Training loss for epoch 9: 0.4106\n",
      "Validation loss for epoch 9: 0.8184\n",
      "Epoch 10/15\n"
     ]
    },
    {
     "name": "stderr",
     "output_type": "stream",
     "text": [
      "Training: 100%|█████████████████████████████████| 12/12 [04:42<00:00, 23.53s/it]\n",
      "Validation: 100%|█████████████████████████████████| 2/2 [00:10<00:00,  5.14s/it]\n"
     ]
    },
    {
     "name": "stdout",
     "output_type": "stream",
     "text": [
      "Training loss for epoch 10: 0.5306\n",
      "Validation loss for epoch 10: 0.8808\n",
      "Epoch 11/15\n"
     ]
    },
    {
     "name": "stderr",
     "output_type": "stream",
     "text": [
      "Training: 100%|█████████████████████████████████| 12/12 [04:25<00:00, 22.13s/it]\n",
      "Validation: 100%|█████████████████████████████████| 2/2 [00:10<00:00,  5.30s/it]\n"
     ]
    },
    {
     "name": "stdout",
     "output_type": "stream",
     "text": [
      "Training loss for epoch 11: 0.4657\n",
      "Validation loss for epoch 11: 0.8687\n",
      "Epoch 12/15\n"
     ]
    },
    {
     "name": "stderr",
     "output_type": "stream",
     "text": [
      "Training: 100%|█████████████████████████████████| 12/12 [04:28<00:00, 22.39s/it]\n",
      "Validation: 100%|█████████████████████████████████| 2/2 [00:10<00:00,  5.03s/it]\n"
     ]
    },
    {
     "name": "stdout",
     "output_type": "stream",
     "text": [
      "Training loss for epoch 12: 0.5137\n",
      "Validation loss for epoch 12: 0.8815\n",
      "Epoch 13/15\n"
     ]
    },
    {
     "name": "stderr",
     "output_type": "stream",
     "text": [
      "Training: 100%|█████████████████████████████████| 12/12 [04:27<00:00, 22.32s/it]\n",
      "Validation: 100%|█████████████████████████████████| 2/2 [00:10<00:00,  5.28s/it]\n"
     ]
    },
    {
     "name": "stdout",
     "output_type": "stream",
     "text": [
      "Training loss for epoch 13: 0.4348\n",
      "Validation loss for epoch 13: 0.8288\n",
      "Epoch 14/15\n"
     ]
    },
    {
     "name": "stderr",
     "output_type": "stream",
     "text": [
      "Training: 100%|█████████████████████████████████| 12/12 [04:30<00:00, 22.54s/it]\n",
      "Validation: 100%|█████████████████████████████████| 2/2 [00:10<00:00,  5.35s/it]\n"
     ]
    },
    {
     "name": "stdout",
     "output_type": "stream",
     "text": [
      "Training loss for epoch 14: 0.3984\n",
      "Validation loss for epoch 14: 0.8393\n",
      "Epoch 15/15\n"
     ]
    },
    {
     "name": "stderr",
     "output_type": "stream",
     "text": [
      "Training: 100%|█████████████████████████████████| 12/12 [04:26<00:00, 22.21s/it]\n",
      "Validation: 100%|█████████████████████████████████| 2/2 [00:10<00:00,  5.10s/it]\n",
      "Some non-default generation parameters are set in the model config. These should go into a GenerationConfig file (https://huggingface.co/docs/transformers/generation_strategies#save-a-custom-decoding-strategy-with-your-model) instead. This warning will be raised to an exception in v4.41.\n",
      "Non-default generation parameters: {'temperature': 0.0352513}\n"
     ]
    },
    {
     "name": "stdout",
     "output_type": "stream",
     "text": [
      "Training loss for epoch 15: 0.4035\n",
      "Validation loss for epoch 15: 0.8457\n",
      "fine-tuned model saved to models/wtq_loss_display\n",
      "Loss plot saved\n",
      "Done Training\n"
     ]
    },
    {
     "data": {
      "image/png": "[encoded data removed]",
      "text/plain": [
       "<Figure size 1000x600 with 1 Axes>"
      ]
     },
     "metadata": {},
     "output_type": "display_data"
    }
   ],
   "source": [
    "device = torch.device(\"cuda\" if torch.cuda.is_available() else \"cpu\")\n",
    "description = 'using altered.csv (altered off of toy_df.csv), kept learning rate to 1e-5, added a scheduler, 5 epochs'\n",
    "\n",
    "# Fine-tune model\n",
    "model_finetune = train_model(\n",
    "    model=model_finetune,\n",
    "    train_dataloader=train_dataloader,\n",
    "    dev_dataloader=dev_dataloader,\n",
    "    optimizer=optimizer,\n",
    "    device=device,\n",
    "    epochs=15,\n",
    "    save_path=\"wtq_loss_display\",\n",
    "    description = description\n",
    ")"
   ]
  },
  {
   "cell_type": "code",
   "execution_count": 31,
   "id": "11b53811",
   "metadata": {},
   "outputs": [],
   "source": [
    "# Inference\n",
    "def inference(test_data, test_dfs, model):\n",
    "    num_none = 0\n",
    "    num_agg = 0\n",
    "    num_correct = 0\n",
    "    num_correct_none = 0\n",
    "    num_correct_agg = 0\n",
    "    total_questions = 0\n",
    "    num_number = 0\n",
    "    num_number_correct = 0\n",
    "    num_category = 0\n",
    "    num_category_correct = 0\n",
    "    \n",
    "    model.eval()\n",
    "    \n",
    "    with torch.no_grad():\n",
    "        for file in test_dfs:\n",
    "            table = pd.read_csv(f'data/{file}').astype(str)\n",
    "            df = test_data[test_data['dataset'] == file]\n",
    "            queries = list(df['question'])\n",
    "            inputs = tokenizer(\n",
    "                table = table,\n",
    "                queries = queries,\n",
    "                padding=\"max_length\",\n",
    "                return_tensors=\"pt\",\n",
    "                truncation = True\n",
    "            )\n",
    "\n",
    "            outputs = model(**inputs)\n",
    "            predicted_answer_coordinates, predicted_aggregation_indices = tokenizer.convert_logits_to_predictions(\n",
    "                inputs, outputs.logits.detach(), outputs.logits_aggregation.detach()\n",
    "            )\n",
    "\n",
    "            # print results:\n",
    "            id2aggregation = {0: \"NONE\", 1: \"SUM\", 2: \"AVERAGE\", 3: \"COUNT\"}\n",
    "            aggregation_predictions_string = [id2aggregation[x] for x in predicted_aggregation_indices]\n",
    "\n",
    "            answers = []\n",
    "            for coordinates in predicted_answer_coordinates:\n",
    "                if len(coordinates) == 1:\n",
    "                    # only a single cell:\n",
    "                    answers.append(table.iat[coordinates[0]])\n",
    "                else:\n",
    "                    # multiple cells\n",
    "                    cell_values = []\n",
    "                    for coordinate in coordinates:\n",
    "                        cell_values.append(table.iat[coordinate])\n",
    "                    answers.append(\", \".join(cell_values))\n",
    "\n",
    "            i = 0\n",
    "            real_answers = list(df['sample_answer'])\n",
    "            answer_type = list(df['type'])\n",
    "            for query, answer, predicted_agg in zip(queries, answers, aggregation_predictions_string):\n",
    "                total_questions += 1 \n",
    "                #print(query)\n",
    "\n",
    "               # print('Indeded type: ', answer_type[i])\n",
    "                if answer_type[i] == 'number':\n",
    "                    num_number += 1\n",
    "                else:\n",
    "                    num_category += 1\n",
    "\n",
    "                if predicted_agg == \"NONE\":\n",
    "                    #print(\"     Predicted answer: \" + answer)\n",
    "                    #print(\"     Real answer: \", real_answers[i])\n",
    "                    if str(answer) == str(real_answers[i]):\n",
    "                        #print('          CORRECT!')\n",
    "                        num_correct += 1\n",
    "                        num_correct_none += 1\n",
    "                        if answer_type[i] == 'number':\n",
    "                            num_number_correct += 1\n",
    "                        else:\n",
    "                            num_category_correct += 1\n",
    "\n",
    "                    i += 1\n",
    "                    num_none += 1\n",
    "\n",
    "                else:\n",
    "                    #print(\"     Predicted Cells: \" + predicted_agg + \" > \" + answer)\n",
    "                    if predicted_agg == 'COUNT':\n",
    "                        count = answer.split(',')\n",
    "                        answer = len(list(set(count)))\n",
    "                        #print('     Predicted Count: ', answer)\n",
    "                        if answer % 1 == 0:\n",
    "                            answer = int(answer)\n",
    "\n",
    "                    if predicted_agg == 'AVERAGE':\n",
    "                        total = 0\n",
    "                        a = answer.split(',')\n",
    "                        try:\n",
    "                            a = [float(elem) for elem in a]\n",
    "                        except:\n",
    "                            #print('     Predicted Average: Error')\n",
    "                            answer = None\n",
    "                            i += 1\n",
    "                            #print(\"     Real answer: \", str(real_answers[i]))\n",
    "                            num_agg += 1\n",
    "                            continue\n",
    "                        num = len(a)\n",
    "                        answer = 0\n",
    "                        for elem in a:\n",
    "                            answer += (elem/num)  \n",
    "                        #print('     Predicted Average:', answer)\n",
    "                        if answer % 1 == 0:\n",
    "                            answer = int(answer)\n",
    "                            \n",
    "                    if predicted_agg == 'SUM':\n",
    "                        s = answer.split(',')\n",
    "                        try:\n",
    "                            s = [float(elem) for elem in a]\n",
    "                        except:\n",
    "                            #print('     Predicted Average: Error')\n",
    "                            answer = None\n",
    "                            i += 1\n",
    "                            #print(\"     Real answer: \", str(real_answers[i]))\n",
    "                            num_agg += 1\n",
    "                            continue\n",
    "                        answer = 0\n",
    "                        for elem in s:\n",
    "                            answer += elem\n",
    "                        #print('     Predicted Sum:', answer)\n",
    "                        if answer % 1 == 0:\n",
    "                            answer = int(answer)\n",
    "\n",
    "                    #print(\"     Real answer: \", str(real_answers[i]))\n",
    "                    if str(answer) == str(real_answers[i]):\n",
    "                            #print('          CORRECT!')\n",
    "                            num_correct += 1\n",
    "                            num_correct_agg += 1\n",
    "                            if answer_type[i] == 'number':\n",
    "                                num_number_correct += 1\n",
    "                            else:\n",
    "                                num_category_correct += 1\n",
    "                            \n",
    "                    i += 1\n",
    "                    num_agg += 1\n",
    "\n",
    "        print(\"\")\n",
    "        print('Number of Questions: ', total_questions)\n",
    "        print('Overall Accuracy: ', num_correct/total_questions)\n",
    "        print('Number Accuracy: ', num_number_correct/num_number)\n",
    "        print('Category Accuracy: ', num_category_correct/num_category)\n",
    "        '''try:\n",
    "            print('NONE Accuracy:', num_correct_none/num_none)\n",
    "        except:\n",
    "            print('***** No questions with predicted Aggregation Tag NONE ***** ')\n",
    "        try:\n",
    "            print('Agg Accuracy:', num_correct_agg/num_agg)\n",
    "        except:\n",
    "            print('***** No questions with predicted Aggregation Tag SUM, AVERAGE, or COUNT ***** ')\n",
    "        print(\"\")'''\n",
    "        print(\"\")"
   ]
  },
  {
   "cell_type": "markdown",
   "id": "93e4b9ea",
   "metadata": {},
   "source": [
    "Report accuracy train and dev (x-axis epoch, and y-axis loss) -> jsut show that I am thinking about overfitting\n",
    "Run error analysis on answer length by accuracy \n",
    "fix and and train data split\n",
    "talk about if I had more time... this is what I would have done"
   ]
  },
  {
   "cell_type": "markdown",
   "id": "b94d1bbc",
   "metadata": {},
   "source": [
    "Observations \n",
    "- the aggregation operator is often wrong, but still gets the right answer\n",
    "    - for example when looking for a max value, chooses the AVERAGE operator, but only on one cell so still correct\n",
    "- my finetuned model (on toy_df_vw) did not work I do not know why\n",
    "    - gets almost nothing right \n",
    "    - when I test on my train set\n",
    "    - I think that adding the extra coordinates is screwing with the model\n",
    "            - Number of Questions:  89\n",
    "            - Overall Accuracy:  0.10112359550561797\n",
    "            - Number Accuracy:  0.022727272727272728\n",
    "            - Category Accuracy:  0.08888888888888889\n",
    "            - NONE Accuracy: 0.09259259259259259\n",
    "            - Agg Accuracy: 0.12903225806451613\n",
    "            \n",
    "    - the non-fintuned wtq version was this:\n",
    "            - Number of Questions:  89\n",
    "            - Overall Accuracy:  0.23595505617977527\n",
    "            - Number Accuracy:  0.022727272727272728\n",
    "            - Category Accuracy:  0.24444444444444444\n",
    "            - NONE Accuracy: 0.2727272727272727\n",
    "            - Agg Accuracy: 0.20454545454545456"
   ]
  },
  {
   "cell_type": "markdown",
   "id": "820d2bbe",
   "metadata": {},
   "source": [
    "Things to do \n",
    "- try to train on the df_v2 for 5 epochs\n",
    "- try to train on both versions of train data with altered questions\n",
    "- train for 6 or 7 epochs?"
   ]
  },
  {
   "cell_type": "code",
   "execution_count": 26,
   "id": "32481fac",
   "metadata": {},
   "outputs": [],
   "source": [
    "tokenizer = TapasTokenizer.from_pretrained(\"google/tapas-base-finetuned-wtq\")"
   ]
  },
  {
   "cell_type": "code",
   "execution_count": 32,
   "id": "a46c451d",
   "metadata": {},
   "outputs": [
    {
     "name": "stdout",
     "output_type": "stream",
     "text": [
      "\n",
      "Number of Questions:  122\n",
      "Overall Accuracy:  0.48360655737704916\n",
      "Number Accuracy:  0.4827586206896552\n",
      "Category Accuracy:  0.484375\n",
      "\n",
      "\n",
      "Number of Questions:  122\n",
      "Overall Accuracy:  0.4672131147540984\n",
      "Number Accuracy:  0.39655172413793105\n",
      "Category Accuracy:  0.53125\n",
      "\n"
     ]
    }
   ],
   "source": [
    "# Evaluation wtq\n",
    "wtq = TapasForQuestionAnswering.from_pretrained(\"google/tapas-base-finetuned-wtq\")\n",
    "inference(test_data, test_dfs, wtq) \n",
    "inference(test_alt_data, test_dfs, wtq) # test"
   ]
  }
 ],
 "metadata": {
  "kernelspec": {
   "display_name": "Python 3 (ipykernel)",
   "language": "python",
   "name": "python3"
  },
  "language_info": {
   "codemirror_mode": {
    "name": "ipython",
    "version": 3
   },
   "file_extension": ".py",
   "mimetype": "text/x-python",
   "name": "python",
   "nbconvert_exporter": "python",
   "pygments_lexer": "ipython3",
   "version": "3.11.9"
  }
 },
 "nbformat": 4,
 "nbformat_minor": 5
}
