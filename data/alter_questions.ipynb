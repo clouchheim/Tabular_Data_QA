{
 "cells": [
  {
   "cell_type": "code",
   "execution_count": 1,
   "id": "3376b3d8",
   "metadata": {},
   "outputs": [],
   "source": [
    "# this file I alter the questiont to add the column data\n",
    "import pandas as pd"
   ]
  },
  {
   "cell_type": "code",
   "execution_count": 2,
   "id": "c68c4e57",
   "metadata": {},
   "outputs": [],
   "source": [
    "df = pd.read_csv('toy_df.csv')"
   ]
  },
  {
   "cell_type": "code",
   "execution_count": 33,
   "id": "89fe9326",
   "metadata": {},
   "outputs": [],
   "source": [
    "def alter_questions(df):\n",
    "    questions = list(df['question'])\n",
    "    answer_type = list(df['type'])\n",
    "    cols_used = list(df['columns_used'])\n",
    "    num_rows = len(df)\n",
    "    \n",
    "    for i in range(num_rows):\n",
    "        cols = cols_used[i].replace('[','').replace(']','').replace(\"'\",'') \n",
    "        cols = cols.split(',')\n",
    "        cols_eng = ''\n",
    "        \n",
    "        # create column string\n",
    "        for k in range(len(cols)-1):\n",
    "            cols_eng += f'{cols[k]} ,' \n",
    "        if len(cols) > 1:\n",
    "            cols_eng = cols_eng[:-1]\n",
    "            cols_eng += f'and {cols[-1]}'\n",
    "        else:\n",
    "            cols_eng += cols[-1]\n",
    "        \n",
    "        # create answer type string\n",
    "        a_type = answer_type[i]\n",
    "        if a_type == 'category':\n",
    "            a_type = 'categorical'\n",
    "        else:\n",
    "            a_type = 'numerical'\n",
    "            \n",
    "        \n",
    "        final_addition = f' Use the {cols_eng} columns to give a {a_type} answer.'\n",
    "        \n",
    "        # alter the question\n",
    "        altered_question = questions[i] + final_addition\n",
    "        questions[i] = altered_question\n",
    "    \n",
    "    df['question'] = questions\n",
    "    \n",
    "    return df\n",
    "        "
   ]
  },
  {
   "cell_type": "code",
   "execution_count": 34,
   "id": "fd33c6ae",
   "metadata": {},
   "outputs": [],
   "source": [
    "altered = alter_questions(df)\n",
    "altered.to_csv('altered.csv', index=False)"
   ]
  },
  {
   "cell_type": "code",
   "execution_count": 37,
   "id": "85e7f166",
   "metadata": {},
   "outputs": [],
   "source": [
    "test = pd.read_csv('test.csv')\n",
    "alt_test = alter_questions(test)\n",
    "alt_test.to_csv('test_alt.csv', index=False)"
   ]
  },
  {
   "cell_type": "code",
   "execution_count": 39,
   "id": "405ffc93",
   "metadata": {},
   "outputs": [],
   "source": [
    "test = pd.read_csv('test_real.csv')\n",
    "alt_test = alter_questions(test)\n",
    "alt_test.to_csv('test_alt_real.csv', index=False)"
   ]
  },
  {
   "cell_type": "code",
   "execution_count": null,
   "id": "ad2079a6",
   "metadata": {},
   "outputs": [],
   "source": []
  }
 ],
 "metadata": {
  "kernelspec": {
   "display_name": "Python 3 (ipykernel)",
   "language": "python",
   "name": "python3"
  },
  "language_info": {
   "codemirror_mode": {
    "name": "ipython",
    "version": 3
   },
   "file_extension": ".py",
   "mimetype": "text/x-python",
   "name": "python",
   "nbconvert_exporter": "python",
   "pygments_lexer": "ipython3",
   "version": "3.11.9"
  }
 },
 "nbformat": 4,
 "nbformat_minor": 5
}
